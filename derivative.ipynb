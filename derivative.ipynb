{
 "cells": [
  {
   "cell_type": "code",
   "execution_count": 1,
   "id": "7d4efa2e",
   "metadata": {},
   "outputs": [],
   "source": [
    "import numpy as np\n",
    "import torch"
   ]
  },
  {
   "cell_type": "code",
   "execution_count": 16,
   "id": "cb0e5720",
   "metadata": {},
   "outputs": [],
   "source": [
    "def my_func1(x):\n",
    "    return x**2"
   ]
  },
  {
   "cell_type": "code",
   "execution_count": 6,
   "id": "03551375",
   "metadata": {},
   "outputs": [],
   "source": [
    "def my_func2(x):\n",
    "    return x**2 + 2*x + 1"
   ]
  },
  {
   "cell_type": "code",
   "execution_count": 3,
   "id": "3b971eb1",
   "metadata": {},
   "outputs": [],
   "source": [
    "def numerical_derivative(f, x):\n",
    "    delta = 1e-5\n",
    "    return (f(x + delta) - f(x - delta)) / (2 * delta)"
   ]
  },
  {
   "cell_type": "code",
   "execution_count": 4,
   "id": "4c6fe34d",
   "metadata": {},
   "outputs": [
    {
     "name": "stdout",
     "output_type": "stream",
     "text": [
      "6.000000000039306\n"
     ]
    }
   ],
   "source": [
    "result = numerical_derivative(my_func1, 3.0)\n",
    "print(result)"
   ]
  },
  {
   "cell_type": "code",
   "execution_count": 7,
   "id": "f1d5c8f9",
   "metadata": {},
   "outputs": [
    {
     "name": "stdout",
     "output_type": "stream",
     "text": [
      "8.00000000005241\n"
     ]
    }
   ],
   "source": [
    "result = numerical_derivative(my_func2, 3.0)\n",
    "print(result)"
   ]
  },
  {
   "cell_type": "code",
   "execution_count": 8,
   "id": "c79b5670",
   "metadata": {},
   "outputs": [],
   "source": [
    "def numerical_derivative2(f, x):\n",
    "    delta_x = 1e-5\n",
    "    grad = np.zeros_like(x)\n",
    "\n",
    "    it = np.nditer(x, flags=['multi_index'], op_flags=['readwrite'])\n",
    "    while not it.finished:\n",
    "        idx = it.multi_index\n",
    "        tmp_val = x[idx]\n",
    "        x[idx] = tmp_val + delta_x\n",
    "        fx1 = f(x)\n",
    "        x[idx] = tmp_val - delta_x\n",
    "        fx2 = f(x)\n",
    "\n",
    "        grad[idx] = (fx1 - fx2) / (2 * delta_x)\n",
    "\n",
    "        x[idx] = tmp_val  # restore original value\n",
    "        it.iternext()\n",
    "    return grad\n",
    "\n"
   ]
  },
  {
   "cell_type": "code",
   "execution_count": null,
   "id": "f2733ae7",
   "metadata": {},
   "outputs": [],
   "source": [
    "def func3(input):\n",
    "    x = input[0]\n",
    "    y = input[1]\n",
    "    return (2*x + 3*x*y + np.power(y,3))\n",
    "# x 미분 :  2 + 3y, y 미분 : 3x + 3y**2"
   ]
  },
  {
   "cell_type": "code",
   "execution_count": 17,
   "id": "66d0a6ca",
   "metadata": {},
   "outputs": [
    {
     "name": "stdout",
     "output_type": "stream",
     "text": [
      "[ 8. 15.]\n",
      "[4.]\n"
     ]
    },
    {
     "name": "stderr",
     "output_type": "stream",
     "text": [
      "C:\\Users\\admin\\AppData\\Local\\Temp\\ipykernel_13708\\3442806120.py:14: DeprecationWarning: Conversion of an array with ndim > 0 to a scalar is deprecated, and will error in future. Ensure you extract a single element from your array before performing this operation. (Deprecated NumPy 1.25.)\n",
      "  grad[idx] = (fx1 - fx2) / (2 * delta_x)\n"
     ]
    }
   ],
   "source": [
    "print ( numerical_derivative2(func3, np.array([1.0, 2.0])) )\n",
    "print ( numerical_derivative2(my_func1, np.array([2.0])) )\n",
    "\n"
   ]
  },
  {
   "cell_type": "code",
   "execution_count": 19,
   "id": "3b073a7b",
   "metadata": {},
   "outputs": [
    {
     "data": {
      "text/plain": [
       "array([[1., 2.],\n",
       "       [3., 4.]])"
      ]
     },
     "execution_count": 19,
     "metadata": {},
     "output_type": "execute_result"
    }
   ],
   "source": [
    "arr1 = np.array([[1.0, 2.0], [3.0, 4.0]])\n",
    "arr1"
   ]
  },
  {
   "cell_type": "code",
   "execution_count": null,
   "id": "d804feaf",
   "metadata": {},
   "outputs": [],
   "source": [
    "def func4(input):\n",
    "    w = input[0][0]\n",
    "    x = input[0][1]\n",
    "    y = input[1][0]\n",
    "    z = input[1][1]\n",
    "\n",
    "    return (w*x + w*y*z + 3*w + z*np.power(y,2))\n",
    "# w 미분 : x + y*z + 3, \n",
    "# x 미분 : w, \n",
    "# y 미분 : w*z + 2*z*y, \n",
    "# z 미분 : w*y\n"
   ]
  },
  {
   "cell_type": "code",
   "execution_count": 21,
   "id": "04f23b5e",
   "metadata": {},
   "outputs": [
    {
     "data": {
      "text/plain": [
       "array([[17.,  1.],\n",
       "       [28., 12.]])"
      ]
     },
     "execution_count": 21,
     "metadata": {},
     "output_type": "execute_result"
    }
   ],
   "source": [
    "numerical_derivative2(func4, arr1)"
   ]
  },
  {
   "cell_type": "code",
   "execution_count": null,
   "id": "c4ad9731",
   "metadata": {},
   "outputs": [],
   "source": []
  }
 ],
 "metadata": {
  "kernelspec": {
   "display_name": "base",
   "language": "python",
   "name": "python3"
  },
  "language_info": {
   "codemirror_mode": {
    "name": "ipython",
    "version": 3
   },
   "file_extension": ".py",
   "mimetype": "text/x-python",
   "name": "python",
   "nbconvert_exporter": "python",
   "pygments_lexer": "ipython3",
   "version": "3.12.7"
  }
 },
 "nbformat": 4,
 "nbformat_minor": 5
}
