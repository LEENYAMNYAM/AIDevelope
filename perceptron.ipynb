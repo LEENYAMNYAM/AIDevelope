{
 "cells": [
  {
   "cell_type": "code",
   "execution_count": 1,
   "id": "8a262bcd",
   "metadata": {},
   "outputs": [],
   "source": [
    "import numpy as np"
   ]
  },
  {
   "cell_type": "code",
   "execution_count": 2,
   "id": "5c0103c0",
   "metadata": {},
   "outputs": [],
   "source": [
    "def AND_gate(x):\n",
    "    w1 = 0.5\n",
    "    w2 = 0.5\n",
    "    b = -0.7\n",
    "    result = w1 * x[0] + w2 * x[1] + b\n",
    "    if result <= 0: return 0\n",
    "    else: return 1"
   ]
  },
  {
   "cell_type": "code",
   "execution_count": 3,
   "id": "e1e4c1e5",
   "metadata": {},
   "outputs": [],
   "source": [
    "def NAND_gate(x):\n",
    "    w1 = -0.5\n",
    "    w2 = -0.5\n",
    "    b = 0.7\n",
    "    result = w1 * x[0] + w2 * x[1] + b\n",
    "    if result <= 0: return 0\n",
    "    else: return 1"
   ]
  },
  {
   "cell_type": "code",
   "execution_count": 4,
   "id": "a6484a08",
   "metadata": {},
   "outputs": [],
   "source": [
    "def OR_gate(x):\n",
    "    w1 = 0.6\n",
    "    w2 = 0.6\n",
    "    b = -0.5\n",
    "    result = w1 * x[0] + w2 * x[1] + b\n",
    "    if result <= 0: return 0\n",
    "    else: return 1"
   ]
  },
  {
   "cell_type": "code",
   "execution_count": 5,
   "id": "977f2dc9",
   "metadata": {},
   "outputs": [
    {
     "name": "stdout",
     "output_type": "stream",
     "text": [
      "[0, 0, 0, 1]\n",
      "[1, 1, 1, 0]\n",
      "[0, 1, 1, 1]\n"
     ]
    }
   ],
   "source": [
    "input_data = np.array([[0, 0], [0, 1], [1, 0], [1, 1]])\n",
    "result_and = []\n",
    "result_nand = []\n",
    "result_or = []\n",
    "\n",
    "for x in input_data:\n",
    "    result_and.append(AND_gate(x))\n",
    "    result_nand.append(NAND_gate(x))\n",
    "    result_or.append(OR_gate(x))\n",
    "\n",
    "\n",
    "print(result_and)\n",
    "print(result_nand)\n",
    "print(result_or)"
   ]
  },
  {
   "cell_type": "code",
   "execution_count": 6,
   "id": "2eda600d",
   "metadata": {},
   "outputs": [
    {
     "name": "stdout",
     "output_type": "stream",
     "text": [
      "[0, 1, 1, 0]\n"
     ]
    }
   ],
   "source": [
    "# XOR gate (NAND와 OR의 AND)\n",
    "\n",
    "s1 = [] # NAND gate 결과\n",
    "s2 = [] # OR gate 결과\n",
    "new_input_data = []\n",
    "final_result = []\n",
    "\n",
    "for i in range(len(input_data)):\n",
    "    s1 = NAND_gate(input_data[i])\n",
    "    s2 = OR_gate(input_data[i])\n",
    "    new_input_data.append(s1)\n",
    "    new_input_data.append(s2)\n",
    "    final_result.append(AND_gate(new_input_data))\n",
    "    new_input_data = []\n",
    "\n",
    "print(final_result)"
   ]
  },
  {
   "cell_type": "code",
   "execution_count": 7,
   "id": "ae88af15",
   "metadata": {},
   "outputs": [],
   "source": [
    "import torch\n",
    "import torch.nn as nn\n",
    "import torch.optim as optim\n",
    "import torch.nn.functional as F"
   ]
  },
  {
   "cell_type": "code",
   "execution_count": 8,
   "id": "477073bb",
   "metadata": {},
   "outputs": [],
   "source": [
    "x = torch.FloatTensor([[0, 0], [0, 1], [1, 0], [1, 1]])\n",
    "y1 = torch.FloatTensor([[0], [0], [0], [1]])    # AND gate\n",
    "y2 = torch.FloatTensor([[1], [1], [1], [0]])    # NAND gate\n",
    "y3 = torch.FloatTensor([[0], [1], [1], [1]])    # OR gate\n",
    "y4 = torch.FloatTensor([[0], [1], [1], [0]])    # XOR gate"
   ]
  },
  {
   "cell_type": "code",
   "execution_count": 9,
   "id": "38995ee7",
   "metadata": {},
   "outputs": [],
   "source": [
    "# 모델 생성\n",
    "linear = nn.Linear(2, 1, bias=True)\n",
    "sigmoid = nn.Sigmoid()\n",
    "model = nn.Sequential(linear, sigmoid)\n",
    "\n",
    "# 손실 함수, 최적화 함수 생성\n",
    "criterion = nn.BCELoss()  # 이진 크로스 엔트로피 손실 함수\n",
    "optimizer = optim.SGD(model.parameters(), lr=0.1)"
   ]
  },
  {
   "cell_type": "code",
   "execution_count": 10,
   "id": "bf0ec7d4",
   "metadata": {},
   "outputs": [
    {
     "name": "stdout",
     "output_type": "stream",
     "text": [
      "0 0.7002997398376465\n",
      "100 0.6953205466270447\n",
      "200 0.6941355466842651\n",
      "300 0.6935967803001404\n",
      "400 0.6933518052101135\n",
      "500 0.6932402849197388\n",
      "600 0.6931896209716797\n",
      "700 0.6931664943695068\n",
      "800 0.6931559443473816\n",
      "900 0.6931511163711548\n",
      "1000 0.6931489706039429\n"
     ]
    }
   ],
   "source": [
    "# XOR gate는 epoch을 몇 번을 돌려도 cost가 줄지를 않음. 단층 퍼셉트론으론 못 구함.\n",
    "\n",
    "for step in range(1001):\n",
    "    hx = model(x)\n",
    "    cost = criterion(hx, y4)\n",
    "\n",
    "    optimizer.zero_grad()\n",
    "    cost.backward()\n",
    "    optimizer.step()\n",
    "\n",
    "    if step % 100 == 0:\n",
    "        print(step, cost.item())"
   ]
  },
  {
   "cell_type": "code",
   "execution_count": 11,
   "id": "46530fe9",
   "metadata": {},
   "outputs": [
    {
     "name": "stdout",
     "output_type": "stream",
     "text": [
      "tensor([[1.],\n",
      "        [1.],\n",
      "        [1.],\n",
      "        [0.]])\n"
     ]
    }
   ],
   "source": [
    "pred = model(x)\n",
    "print((pred > 0.5).float())"
   ]
  },
  {
   "cell_type": "code",
   "execution_count": 12,
   "id": "65507c1e",
   "metadata": {},
   "outputs": [],
   "source": [
    "model = nn.Sequential(\n",
    "    nn.Linear(2, 5, bias=True),\n",
    "    nn.Sigmoid(),\n",
    "    nn.Linear(5, 5, bias=True),\n",
    "    nn.Sigmoid(),\n",
    "    nn.Linear(5, 5, bias=True),\n",
    "    nn.Sigmoid(),\n",
    "    nn.Linear(5, 1, bias=True),\n",
    "    nn.Sigmoid()\n",
    ")\n",
    "\n",
    "criterion = nn.BCELoss()\n",
    "optimizer = optim.SGD(model.parameters(), lr=0.1)"
   ]
  },
  {
   "cell_type": "code",
   "execution_count": 13,
   "id": "8250c7fe",
   "metadata": {},
   "outputs": [
    {
     "name": "stdout",
     "output_type": "stream",
     "text": [
      "0 0.6949084997177124\n",
      "100 0.6931222677230835\n",
      "200 0.693122148513794\n",
      "300 0.6931219696998596\n",
      "400 0.6931217908859253\n",
      "500 0.6931215524673462\n",
      "600 0.6931213736534119\n",
      "700 0.6931211948394775\n",
      "800 0.693121075630188\n",
      "900 0.6931207776069641\n",
      "1000 0.6931205987930298\n",
      "1100 0.6931203603744507\n",
      "1200 0.6931202411651611\n",
      "1300 0.6931200623512268\n",
      "1400 0.6931198835372925\n",
      "1500 0.6931196451187134\n",
      "1600 0.6931194067001343\n",
      "1700 0.6931192874908447\n",
      "1800 0.6931189894676208\n",
      "1900 0.6931188106536865\n",
      "2000 0.6931186318397522\n",
      "2100 0.6931183934211731\n",
      "2200 0.6931182146072388\n",
      "2300 0.6931180357933044\n",
      "2400 0.6931177377700806\n",
      "2500 0.6931174993515015\n",
      "2600 0.6931172609329224\n",
      "2700 0.6931170225143433\n",
      "2800 0.6931169033050537\n",
      "2900 0.6931165456771851\n",
      "3000 0.693116307258606\n",
      "3100 0.6931160688400269\n",
      "3200 0.6931158900260925\n",
      "3300 0.6931156516075134\n",
      "3400 0.6931154727935791\n",
      "3500 0.6931151151657104\n",
      "3600 0.6931149363517761\n",
      "3700 0.693114697933197\n",
      "3800 0.6931143999099731\n",
      "3900 0.693114161491394\n",
      "4000 0.6931139826774597\n",
      "4100 0.6931136846542358\n",
      "4200 0.693113386631012\n",
      "4300 0.6931130886077881\n",
      "4400 0.693112850189209\n",
      "4500 0.6931125521659851\n",
      "4600 0.6931122541427612\n",
      "4700 0.6931120753288269\n",
      "4800 0.693111777305603\n",
      "4900 0.6931114792823792\n",
      "5000 0.6931111812591553\n",
      "5100 0.6931109428405762\n",
      "5200 0.6931105852127075\n",
      "5300 0.6931103467941284\n",
      "5400 0.6931100487709045\n",
      "5500 0.6931097507476807\n",
      "5600 0.6931095123291016\n",
      "5700 0.6931090950965881\n",
      "5800 0.6931087970733643\n",
      "5900 0.6931085586547852\n",
      "6000 0.6931082010269165\n",
      "6100 0.6931078433990479\n",
      "6200 0.6931076049804688\n",
      "6300 0.6931072473526001\n",
      "6400 0.6931068897247314\n",
      "6500 0.6931065320968628\n",
      "6600 0.6931061744689941\n",
      "6700 0.6931058168411255\n",
      "6800 0.6931054592132568\n",
      "6900 0.6931052207946777\n",
      "7000 0.6931047439575195\n",
      "7100 0.6931044459342957\n",
      "7200 0.6931040287017822\n",
      "7300 0.6931037306785583\n",
      "7400 0.6931033134460449\n",
      "7500 0.6931029558181763\n",
      "7600 0.6931025981903076\n",
      "7700 0.6931021809577942\n",
      "7800 0.6931017637252808\n",
      "7900 0.6931014060974121\n",
      "8000 0.6931009292602539\n",
      "8100 0.6931005716323853\n",
      "8200 0.6931001543998718\n",
      "8300 0.6930997967720032\n",
      "8400 0.693099319934845\n",
      "8500 0.6930989027023315\n",
      "8600 0.6930984854698181\n",
      "8700 0.6930979490280151\n",
      "8800 0.6930975317955017\n",
      "8900 0.6930971145629883\n",
      "9000 0.6930966377258301\n",
      "9100 0.6930962204933167\n",
      "9200 0.6930956840515137\n",
      "9300 0.6930952072143555\n",
      "9400 0.6930947303771973\n",
      "9500 0.6930943131446838\n",
      "9600 0.6930938363075256\n",
      "9700 0.6930932998657227\n",
      "9800 0.6930928230285645\n",
      "9900 0.6930922865867615\n",
      "10000 0.6930918097496033\n"
     ]
    }
   ],
   "source": [
    "for epoch in range(10001):\n",
    "    hx = model(x)\n",
    "    cost = criterion(hx, y4)\n",
    "    \n",
    "    optimizer.zero_grad()\n",
    "    cost.backward()\n",
    "    optimizer.step()\n",
    "\n",
    "    if epoch % 100 == 0:\n",
    "        print(epoch, cost.item())"
   ]
  },
  {
   "cell_type": "code",
   "execution_count": 29,
   "id": "8d562205",
   "metadata": {},
   "outputs": [
    {
     "name": "stdout",
     "output_type": "stream",
     "text": [
      "tensor([[1.],\n",
      "        [1.],\n",
      "        [0.],\n",
      "        [0.]])\n"
     ]
    }
   ],
   "source": [
    "pred = model(x)\n",
    "print((pred > 0.5).float())"
   ]
  },
  {
   "cell_type": "code",
   "execution_count": null,
   "id": "c309b090",
   "metadata": {},
   "outputs": [],
   "source": []
  }
 ],
 "metadata": {
  "kernelspec": {
   "display_name": "base",
   "language": "python",
   "name": "python3"
  },
  "language_info": {
   "codemirror_mode": {
    "name": "ipython",
    "version": 3
   },
   "file_extension": ".py",
   "mimetype": "text/x-python",
   "name": "python",
   "nbconvert_exporter": "python",
   "pygments_lexer": "ipython3",
   "version": "3.12.7"
  }
 },
 "nbformat": 4,
 "nbformat_minor": 5
}
