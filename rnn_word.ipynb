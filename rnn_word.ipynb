{
 "cells": [
  {
   "cell_type": "code",
   "execution_count": 1,
   "id": "6da0c37d",
   "metadata": {},
   "outputs": [],
   "source": [
    "import torch\n",
    "import torch.nn as nn\n",
    "import torch.optim as optim\n",
    "import numpy as np"
   ]
  },
  {
   "cell_type": "code",
   "execution_count": 2,
   "id": "a1f5f4a7",
   "metadata": {},
   "outputs": [
    {
     "name": "stdout",
     "output_type": "stream",
     "text": [
      "['if', 'you', 'want', 'to', 'build', 'a', 'ship,', \"don't\", 'drum', 'up', 'people', 'together', 'to', 'collect', 'wood', 'and', \"don't\", 'assign', 'them', 'tasks', 'and', 'work,', 'but', 'rather', 'teach', 'them', 'to', 'long', 'for', 'the', 'endless', 'immensity', 'of', 'the', 'sea.']\n"
     ]
    }
   ],
   "source": [
    "sentence = \"\"\"if you want to build a ship, don't drum up people together to collect wood and don't assign them tasks and work, but rather teach them to long for the endless immensity of the sea.\"\"\".split()\n",
    "print(sentence)\n"
   ]
  },
  {
   "cell_type": "code",
   "execution_count": 3,
   "id": "e9d4d900",
   "metadata": {},
   "outputs": [
    {
     "name": "stdout",
     "output_type": "stream",
     "text": [
      "['a', 'and', 'assign', 'build', 'but', 'collect', \"don't\", 'drum', 'endless', 'for', 'if', 'immensity', 'long', 'of', 'people', 'rather', 'sea.', 'ship,', 'tasks', 'teach', 'the', 'them', 'to', 'together', 'up', 'want', 'wood', 'work,', 'you']\n",
      "29\n"
     ]
    }
   ],
   "source": [
    "vocab = sorted(list(set(sentence)))\n",
    "print(vocab)\n",
    "vocab_size = len(vocab)\n",
    "print(vocab_size)"
   ]
  },
  {
   "cell_type": "code",
   "execution_count": 4,
   "id": "31dcabbf",
   "metadata": {},
   "outputs": [
    {
     "name": "stdout",
     "output_type": "stream",
     "text": [
      "{'a': 1, 'and': 2, 'assign': 3, 'build': 4, 'but': 5, 'collect': 6, \"don't\": 7, 'drum': 8, 'endless': 9, 'for': 10, 'if': 11, 'immensity': 12, 'long': 13, 'of': 14, 'people': 15, 'rather': 16, 'sea.': 17, 'ship,': 18, 'tasks': 19, 'teach': 20, 'the': 21, 'them': 22, 'to': 23, 'together': 24, 'up': 25, 'want': 26, 'wood': 27, 'work,': 28, 'you': 29}\n",
      "{'a': 1, 'and': 2, 'assign': 3, 'build': 4, 'but': 5, 'collect': 6, \"don't\": 7, 'drum': 8, 'endless': 9, 'for': 10, 'if': 11, 'immensity': 12, 'long': 13, 'of': 14, 'people': 15, 'rather': 16, 'sea.': 17, 'ship,': 18, 'tasks': 19, 'teach': 20, 'the': 21, 'them': 22, 'to': 23, 'together': 24, 'up': 25, 'want': 26, 'wood': 27, 'work,': 28, 'you': 29, 'unk': 0}\n",
      "2\n",
      "10\n"
     ]
    }
   ],
   "source": [
    "# enumerate(vocab, 1) : 인덱스가 1부터 시작됨\n",
    "word_to_index = {c:i for i, c in enumerate(vocab, 1)}\n",
    "print(word_to_index)\n",
    "\n",
    "# {'unk' : 0} 을 추가함\n",
    "word_to_index['unk'] = 0\n",
    "print(word_to_index)\n",
    "print(word_to_index['and'])\n",
    "print(word_to_index['for'])"
   ]
  },
  {
   "cell_type": "code",
   "execution_count": 5,
   "id": "82bcb507",
   "metadata": {},
   "outputs": [
    {
     "name": "stdout",
     "output_type": "stream",
     "text": [
      "30\n"
     ]
    }
   ],
   "source": [
    "# 하이퍼파라미터 설정\n",
    "hidden_size = vocab_size + 1\n",
    "sequence_length = 3\n",
    "learning_rate = 0.1\n",
    "print(hidden_size)\n"
   ]
  },
  {
   "cell_type": "code",
   "execution_count": 6,
   "id": "5a56bbce",
   "metadata": {},
   "outputs": [],
   "source": [
    "def build_data(sentence, word_to_index):\n",
    "    encoded = [word_to_index[token] for token in sentence]\n",
    "    print(encoded)\n",
    "    input_seq = encoded[:-1]\n",
    "    label_seq = encoded[1:]\n",
    "    print(label_seq)\n",
    "    input_seq = torch.LongTensor(input_seq).unsqueeze(0)\n",
    "    label_seq = torch.LongTensor(label_seq).unsqueeze(0)\n",
    "    return input_seq, label_seq"
   ]
  },
  {
   "cell_type": "code",
   "execution_count": 7,
   "id": "b9b8cefe",
   "metadata": {},
   "outputs": [
    {
     "name": "stdout",
     "output_type": "stream",
     "text": [
      "[11, 29, 26, 23, 4, 1, 18, 7, 8, 25, 15, 24, 23, 6, 27, 2, 7, 3, 22, 19, 2, 28, 5, 16, 20, 22, 23, 13, 10, 21, 9, 12, 14, 21, 17]\n",
      "[29, 26, 23, 4, 1, 18, 7, 8, 25, 15, 24, 23, 6, 27, 2, 7, 3, 22, 19, 2, 28, 5, 16, 20, 22, 23, 13, 10, 21, 9, 12, 14, 21, 17]\n",
      "tensor([[11, 29, 26, 23,  4,  1, 18,  7,  8, 25, 15, 24, 23,  6, 27,  2,  7,  3,\n",
      "         22, 19,  2, 28,  5, 16, 20, 22, 23, 13, 10, 21,  9, 12, 14, 21]])\n",
      "tensor([[29, 26, 23,  4,  1, 18,  7,  8, 25, 15, 24, 23,  6, 27,  2,  7,  3, 22,\n",
      "         19,  2, 28,  5, 16, 20, 22, 23, 13, 10, 21,  9, 12, 14, 21, 17]])\n",
      "torch.Size([1, 34]) torch.Size([1, 34])\n"
     ]
    }
   ],
   "source": [
    "X, Y = build_data(sentence, word_to_index)\n",
    "print(X)\n",
    "print(Y)\n",
    "print(X.size(), Y.size())"
   ]
  },
  {
   "cell_type": "code",
   "execution_count": 8,
   "id": "57e6796c",
   "metadata": {},
   "outputs": [],
   "source": [
    "class Net(nn.Module):\n",
    "    def __init__(self, vocab_size, input_size, hidden_size, batch_first=True):\n",
    "        super().__init__()\n",
    "        \n",
    "        # embedding layer\n",
    "        self.embedding_layer = nn.Embedding(num_embeddings=vocab_size,\n",
    "                                            embedding_dim=input_size)\n",
    "        #RNN 층\n",
    "        self.rnn = nn.RNN(input_size, hidden_size, batch_first=batch_first)\n",
    "\n",
    "        #출력층\n",
    "\n",
    "        self.fc = nn.Linear(hidden_size, vocab_size)\n",
    "\n",
    "    def forward(self, x):\n",
    "        # embedding 층 : 크기변화(배치크기, 시퀀스길이) => (배치크기, 시퀀스길이, 임베딩차원)\n",
    "        output = self.embedding_layer(x)\n",
    "        # RNN층 : 크기 변화(배치크기, 시퀀스길이, 임베딩차원) => \n",
    "        # ouput : (배치크기, 시퀀스길이, 은닉층크기)\n",
    "        # hidden : (1, 배치크기, 은닉층 크기)\n",
    "        output, hidden = self.rnn(output)\n",
    "\n",
    "        # 출력층 : 크기변화(배치크기, 시퀀스길이, 은닉층 크기)\n",
    "        # => (배치크기, 시퀀스길이, 단어장 크기)\n",
    "        output = self.fc(output)\n",
    "\n",
    "        # 크기 변화 : (배치크기, 시퀀스 길이, 단어장 크기) => (배치크기*시퀀스길이, 단어장크기)\n",
    "        return output.view(-1, output.size(2))\n",
    "\n"
   ]
  },
  {
   "cell_type": "code",
   "execution_count": 9,
   "id": "21025a25",
   "metadata": {},
   "outputs": [],
   "source": [
    "model = Net(vocab_size+1, sequence_length, hidden_size, batch_first=True)\n",
    "loss_func = nn.CrossEntropyLoss()\n",
    "optimizer = optim.Adam(model.parameters(), lr=learning_rate)"
   ]
  },
  {
   "cell_type": "code",
   "execution_count": 10,
   "id": "76079d01",
   "metadata": {},
   "outputs": [
    {
     "name": "stdout",
     "output_type": "stream",
     "text": [
      "{1: 'a', 2: 'and', 3: 'assign', 4: 'build', 5: 'but', 6: 'collect', 7: \"don't\", 8: 'drum', 9: 'endless', 10: 'for', 11: 'if', 12: 'immensity', 13: 'long', 14: 'of', 15: 'people', 16: 'rather', 17: 'sea.', 18: 'ship,', 19: 'tasks', 20: 'teach', 21: 'the', 22: 'them', 23: 'to', 24: 'together', 25: 'up', 26: 'want', 27: 'wood', 28: 'work,', 29: 'you', 0: 'unk'}\n",
      "{'a': 1, 'and': 2, 'assign': 3, 'build': 4, 'but': 5, 'collect': 6, \"don't\": 7, 'drum': 8, 'endless': 9, 'for': 10, 'if': 11, 'immensity': 12, 'long': 13, 'of': 14, 'people': 15, 'rather': 16, 'sea.': 17, 'ship,': 18, 'tasks': 19, 'teach': 20, 'the': 21, 'them': 22, 'to': 23, 'together': 24, 'up': 25, 'want': 26, 'wood': 27, 'work,': 28, 'you': 29, 'unk': 0}\n"
     ]
    }
   ],
   "source": [
    "index_to_word = {v: k for k, v in word_to_index.items()}\n",
    "print(index_to_word)\n",
    "print(word_to_index)\n"
   ]
  },
  {
   "cell_type": "code",
   "execution_count": 11,
   "id": "263d5142",
   "metadata": {},
   "outputs": [
    {
     "name": "stdout",
     "output_type": "stream",
     "text": [
      "torch.Size([34, 30])\n"
     ]
    }
   ],
   "source": [
    "outputs = model(X)\n",
    "# print(outputs)\n",
    "print(outputs.size())"
   ]
  },
  {
   "cell_type": "code",
   "execution_count": 12,
   "id": "094afe60",
   "metadata": {},
   "outputs": [],
   "source": [
    "decode = lambda y:[index_to_word.get(x) for x in y]"
   ]
  },
  {
   "cell_type": "code",
   "execution_count": 13,
   "id": "58f56d62",
   "metadata": {},
   "outputs": [
    {
     "name": "stdout",
     "output_type": "stream",
     "text": [
      "0, [11, 21, 16, 21, 11, 11, 26, 11, 21, 2, 11, 11, 21, 11, 11, 26, 16, 21, 8, 11, 26, 26, 16, 21, 8, 8, 26, 11, 21, 11, 21, 11, 11, 11],\n",
      " if if the rather the if if want if the and if if the if if want rather the drum if want want rather the drum drum want if the if the if if if\n",
      "10, [29, 26, 23, 4, 1, 18, 7, 8, 25, 15, 24, 23, 6, 27, 2, 7, 3, 22, 19, 2, 28, 5, 16, 20, 22, 23, 13, 10, 21, 9, 12, 14, 21, 17],\n",
      " if you want to build a ship, don't drum up people together to collect wood and don't assign them tasks and work, but rather teach them to long for the endless immensity of the sea.\n",
      "20, [29, 26, 23, 4, 1, 18, 7, 8, 25, 15, 24, 23, 6, 27, 2, 7, 3, 22, 19, 2, 28, 5, 16, 20, 22, 23, 13, 10, 21, 9, 12, 14, 21, 17],\n",
      " if you want to build a ship, don't drum up people together to collect wood and don't assign them tasks and work, but rather teach them to long for the endless immensity of the sea.\n",
      "30, [29, 26, 23, 4, 1, 18, 7, 8, 25, 15, 24, 23, 6, 27, 2, 7, 3, 22, 19, 2, 28, 5, 16, 20, 22, 23, 13, 10, 21, 9, 12, 14, 21, 17],\n",
      " if you want to build a ship, don't drum up people together to collect wood and don't assign them tasks and work, but rather teach them to long for the endless immensity of the sea.\n",
      "40, [29, 26, 23, 4, 1, 18, 7, 8, 25, 15, 24, 23, 6, 27, 2, 7, 3, 22, 19, 2, 28, 5, 16, 20, 22, 23, 13, 10, 21, 9, 12, 14, 21, 17],\n",
      " if you want to build a ship, don't drum up people together to collect wood and don't assign them tasks and work, but rather teach them to long for the endless immensity of the sea.\n",
      "50, [29, 26, 23, 4, 1, 18, 7, 8, 25, 15, 24, 23, 6, 27, 2, 7, 3, 22, 19, 2, 28, 5, 16, 20, 22, 23, 13, 10, 21, 9, 12, 14, 21, 17],\n",
      " if you want to build a ship, don't drum up people together to collect wood and don't assign them tasks and work, but rather teach them to long for the endless immensity of the sea.\n",
      "60, [29, 26, 23, 4, 1, 18, 7, 8, 25, 15, 24, 23, 6, 27, 2, 7, 3, 22, 19, 2, 28, 5, 16, 20, 22, 23, 13, 10, 21, 9, 12, 14, 21, 17],\n",
      " if you want to build a ship, don't drum up people together to collect wood and don't assign them tasks and work, but rather teach them to long for the endless immensity of the sea.\n",
      "70, [29, 26, 23, 4, 1, 18, 7, 8, 25, 15, 24, 23, 6, 27, 2, 7, 3, 22, 19, 2, 28, 5, 16, 20, 22, 23, 13, 10, 21, 9, 12, 14, 21, 17],\n",
      " if you want to build a ship, don't drum up people together to collect wood and don't assign them tasks and work, but rather teach them to long for the endless immensity of the sea.\n",
      "80, [29, 26, 23, 4, 1, 18, 7, 8, 25, 15, 24, 23, 6, 27, 2, 7, 3, 22, 19, 2, 28, 5, 16, 20, 22, 23, 13, 10, 21, 9, 12, 14, 21, 17],\n",
      " if you want to build a ship, don't drum up people together to collect wood and don't assign them tasks and work, but rather teach them to long for the endless immensity of the sea.\n",
      "90, [29, 26, 23, 4, 1, 18, 7, 8, 25, 15, 24, 23, 6, 27, 2, 7, 3, 22, 19, 2, 28, 5, 16, 20, 22, 23, 13, 10, 21, 9, 12, 14, 21, 17],\n",
      " if you want to build a ship, don't drum up people together to collect wood and don't assign them tasks and work, but rather teach them to long for the endless immensity of the sea.\n",
      "100, [29, 26, 23, 4, 1, 18, 7, 8, 25, 15, 24, 23, 6, 27, 2, 7, 3, 22, 19, 2, 28, 5, 16, 20, 22, 23, 13, 10, 21, 9, 12, 14, 21, 17],\n",
      " if you want to build a ship, don't drum up people together to collect wood and don't assign them tasks and work, but rather teach them to long for the endless immensity of the sea.\n",
      "110, [29, 26, 23, 4, 1, 18, 7, 8, 25, 15, 24, 23, 6, 27, 2, 7, 3, 22, 19, 2, 28, 5, 16, 20, 22, 23, 13, 10, 21, 9, 12, 14, 21, 17],\n",
      " if you want to build a ship, don't drum up people together to collect wood and don't assign them tasks and work, but rather teach them to long for the endless immensity of the sea.\n",
      "120, [29, 26, 23, 4, 1, 18, 7, 8, 25, 15, 24, 23, 6, 27, 2, 7, 3, 22, 19, 2, 28, 5, 16, 20, 22, 23, 13, 10, 21, 9, 12, 14, 21, 17],\n",
      " if you want to build a ship, don't drum up people together to collect wood and don't assign them tasks and work, but rather teach them to long for the endless immensity of the sea.\n",
      "130, [29, 26, 23, 4, 1, 18, 7, 8, 25, 15, 24, 23, 6, 27, 2, 7, 3, 22, 19, 2, 28, 5, 16, 20, 22, 23, 13, 10, 21, 9, 12, 14, 21, 17],\n",
      " if you want to build a ship, don't drum up people together to collect wood and don't assign them tasks and work, but rather teach them to long for the endless immensity of the sea.\n",
      "140, [29, 26, 23, 4, 1, 18, 7, 8, 25, 15, 24, 23, 6, 27, 2, 7, 3, 22, 19, 2, 28, 5, 16, 20, 22, 23, 13, 10, 21, 9, 12, 14, 21, 17],\n",
      " if you want to build a ship, don't drum up people together to collect wood and don't assign them tasks and work, but rather teach them to long for the endless immensity of the sea.\n",
      "150, [29, 26, 23, 4, 1, 18, 7, 8, 25, 15, 24, 23, 6, 27, 2, 7, 3, 22, 19, 2, 28, 5, 16, 20, 22, 23, 13, 10, 21, 9, 12, 14, 21, 17],\n",
      " if you want to build a ship, don't drum up people together to collect wood and don't assign them tasks and work, but rather teach them to long for the endless immensity of the sea.\n",
      "160, [29, 26, 23, 4, 1, 18, 7, 8, 25, 15, 24, 23, 6, 27, 2, 7, 3, 22, 19, 2, 28, 5, 16, 20, 22, 23, 13, 10, 21, 9, 12, 14, 21, 17],\n",
      " if you want to build a ship, don't drum up people together to collect wood and don't assign them tasks and work, but rather teach them to long for the endless immensity of the sea.\n",
      "170, [29, 26, 23, 4, 1, 18, 7, 8, 25, 15, 24, 23, 6, 27, 2, 7, 3, 22, 19, 2, 28, 5, 16, 20, 22, 23, 13, 10, 21, 9, 12, 14, 21, 17],\n",
      " if you want to build a ship, don't drum up people together to collect wood and don't assign them tasks and work, but rather teach them to long for the endless immensity of the sea.\n",
      "180, [29, 26, 23, 4, 1, 18, 7, 8, 25, 15, 24, 23, 6, 27, 2, 7, 3, 22, 19, 2, 28, 5, 16, 20, 22, 23, 13, 10, 21, 9, 12, 14, 21, 17],\n",
      " if you want to build a ship, don't drum up people together to collect wood and don't assign them tasks and work, but rather teach them to long for the endless immensity of the sea.\n",
      "190, [29, 26, 23, 4, 1, 18, 7, 8, 25, 15, 24, 23, 6, 27, 2, 7, 3, 22, 19, 2, 28, 5, 16, 20, 22, 23, 13, 10, 21, 9, 12, 14, 21, 17],\n",
      " if you want to build a ship, don't drum up people together to collect wood and don't assign them tasks and work, but rather teach them to long for the endless immensity of the sea.\n",
      "200, [29, 26, 23, 4, 1, 18, 7, 8, 25, 15, 24, 23, 6, 27, 2, 7, 3, 22, 19, 2, 28, 5, 16, 20, 22, 23, 13, 10, 21, 9, 12, 14, 21, 17],\n",
      " if you want to build a ship, don't drum up people together to collect wood and don't assign them tasks and work, but rather teach them to long for the endless immensity of the sea.\n",
      "210, [29, 26, 23, 4, 1, 18, 7, 8, 25, 15, 24, 23, 6, 27, 2, 7, 3, 22, 19, 2, 28, 5, 16, 20, 22, 23, 13, 10, 21, 9, 12, 14, 21, 17],\n",
      " if you want to build a ship, don't drum up people together to collect wood and don't assign them tasks and work, but rather teach them to long for the endless immensity of the sea.\n",
      "220, [29, 26, 23, 4, 1, 18, 7, 8, 25, 15, 24, 23, 6, 27, 2, 7, 3, 22, 19, 2, 28, 5, 16, 20, 22, 23, 13, 10, 21, 9, 12, 14, 21, 17],\n",
      " if you want to build a ship, don't drum up people together to collect wood and don't assign them tasks and work, but rather teach them to long for the endless immensity of the sea.\n",
      "230, [29, 26, 23, 4, 1, 18, 7, 8, 25, 15, 24, 23, 6, 27, 2, 7, 3, 22, 19, 2, 28, 5, 16, 20, 22, 23, 13, 10, 21, 9, 12, 14, 21, 17],\n",
      " if you want to build a ship, don't drum up people together to collect wood and don't assign them tasks and work, but rather teach them to long for the endless immensity of the sea.\n",
      "240, [29, 26, 23, 4, 1, 18, 7, 8, 25, 15, 24, 23, 6, 27, 2, 7, 3, 22, 19, 2, 28, 5, 16, 20, 22, 23, 13, 10, 21, 9, 12, 14, 21, 17],\n",
      " if you want to build a ship, don't drum up people together to collect wood and don't assign them tasks and work, but rather teach them to long for the endless immensity of the sea.\n",
      "250, [29, 26, 23, 4, 1, 18, 7, 8, 25, 15, 24, 23, 6, 27, 2, 7, 3, 22, 19, 2, 28, 5, 16, 20, 22, 23, 13, 10, 21, 9, 12, 14, 21, 17],\n",
      " if you want to build a ship, don't drum up people together to collect wood and don't assign them tasks and work, but rather teach them to long for the endless immensity of the sea.\n",
      "260, [29, 26, 23, 4, 1, 18, 7, 8, 25, 15, 24, 23, 6, 27, 2, 7, 3, 22, 19, 2, 28, 5, 16, 20, 22, 23, 13, 10, 21, 9, 12, 14, 21, 17],\n",
      " if you want to build a ship, don't drum up people together to collect wood and don't assign them tasks and work, but rather teach them to long for the endless immensity of the sea.\n",
      "270, [29, 26, 23, 4, 1, 18, 7, 8, 25, 15, 24, 23, 6, 27, 2, 7, 3, 22, 19, 2, 28, 5, 16, 20, 22, 23, 13, 10, 21, 9, 12, 14, 21, 17],\n",
      " if you want to build a ship, don't drum up people together to collect wood and don't assign them tasks and work, but rather teach them to long for the endless immensity of the sea.\n",
      "280, [29, 26, 23, 4, 1, 18, 7, 8, 25, 15, 24, 23, 6, 27, 2, 7, 3, 22, 19, 2, 28, 5, 16, 20, 22, 23, 13, 10, 21, 9, 12, 14, 21, 17],\n",
      " if you want to build a ship, don't drum up people together to collect wood and don't assign them tasks and work, but rather teach them to long for the endless immensity of the sea.\n",
      "290, [29, 26, 23, 4, 1, 18, 7, 8, 25, 15, 24, 23, 6, 27, 2, 7, 3, 22, 19, 2, 28, 5, 16, 20, 22, 23, 13, 10, 21, 9, 12, 14, 21, 17],\n",
      " if you want to build a ship, don't drum up people together to collect wood and don't assign them tasks and work, but rather teach them to long for the endless immensity of the sea.\n",
      "300, [29, 26, 23, 4, 1, 18, 7, 8, 25, 15, 24, 23, 6, 27, 2, 7, 3, 22, 19, 2, 28, 5, 16, 20, 22, 23, 13, 10, 21, 9, 12, 14, 21, 17],\n",
      " if you want to build a ship, don't drum up people together to collect wood and don't assign them tasks and work, but rather teach them to long for the endless immensity of the sea.\n",
      "310, [29, 26, 23, 4, 1, 18, 7, 8, 25, 15, 24, 23, 6, 27, 2, 7, 3, 22, 19, 2, 28, 5, 16, 20, 22, 23, 13, 10, 21, 9, 12, 14, 21, 17],\n",
      " if you want to build a ship, don't drum up people together to collect wood and don't assign them tasks and work, but rather teach them to long for the endless immensity of the sea.\n",
      "320, [29, 26, 23, 4, 1, 18, 7, 8, 25, 15, 24, 23, 6, 27, 2, 7, 3, 22, 19, 2, 28, 5, 16, 20, 22, 23, 13, 10, 21, 9, 12, 14, 21, 17],\n",
      " if you want to build a ship, don't drum up people together to collect wood and don't assign them tasks and work, but rather teach them to long for the endless immensity of the sea.\n",
      "330, [29, 26, 23, 4, 1, 18, 7, 8, 25, 15, 24, 23, 6, 27, 2, 7, 3, 22, 19, 2, 28, 5, 16, 20, 22, 23, 13, 10, 21, 9, 12, 14, 21, 17],\n",
      " if you want to build a ship, don't drum up people together to collect wood and don't assign them tasks and work, but rather teach them to long for the endless immensity of the sea.\n",
      "340, [29, 26, 23, 4, 1, 18, 7, 8, 25, 15, 24, 23, 6, 27, 2, 7, 3, 22, 19, 2, 28, 5, 16, 20, 22, 23, 13, 10, 21, 9, 12, 14, 21, 17],\n",
      " if you want to build a ship, don't drum up people together to collect wood and don't assign them tasks and work, but rather teach them to long for the endless immensity of the sea.\n",
      "350, [29, 26, 23, 4, 1, 18, 7, 8, 25, 15, 24, 23, 6, 27, 2, 7, 3, 22, 19, 2, 28, 5, 16, 20, 22, 23, 13, 10, 21, 9, 12, 14, 21, 17],\n",
      " if you want to build a ship, don't drum up people together to collect wood and don't assign them tasks and work, but rather teach them to long for the endless immensity of the sea.\n",
      "360, [29, 26, 23, 4, 1, 18, 7, 8, 25, 15, 24, 23, 6, 27, 2, 7, 3, 22, 19, 2, 28, 5, 16, 20, 22, 23, 13, 10, 21, 9, 12, 14, 21, 17],\n",
      " if you want to build a ship, don't drum up people together to collect wood and don't assign them tasks and work, but rather teach them to long for the endless immensity of the sea.\n",
      "370, [29, 26, 23, 4, 1, 18, 7, 8, 25, 15, 24, 23, 6, 27, 2, 7, 3, 22, 19, 2, 28, 5, 16, 20, 22, 23, 13, 10, 21, 9, 12, 14, 21, 17],\n",
      " if you want to build a ship, don't drum up people together to collect wood and don't assign them tasks and work, but rather teach them to long for the endless immensity of the sea.\n",
      "380, [29, 26, 23, 4, 1, 18, 7, 8, 25, 15, 24, 23, 6, 27, 2, 7, 3, 22, 19, 2, 28, 5, 16, 20, 22, 23, 13, 10, 21, 9, 12, 14, 21, 17],\n",
      " if you want to build a ship, don't drum up people together to collect wood and don't assign them tasks and work, but rather teach them to long for the endless immensity of the sea.\n",
      "390, [29, 26, 23, 4, 1, 18, 7, 8, 25, 15, 24, 23, 6, 27, 2, 7, 3, 22, 19, 2, 28, 5, 16, 20, 22, 23, 13, 10, 21, 9, 12, 14, 21, 17],\n",
      " if you want to build a ship, don't drum up people together to collect wood and don't assign them tasks and work, but rather teach them to long for the endless immensity of the sea.\n",
      "400, [29, 26, 23, 4, 1, 18, 7, 8, 25, 15, 24, 23, 6, 27, 2, 7, 3, 22, 19, 2, 28, 5, 16, 20, 22, 23, 13, 10, 21, 9, 12, 14, 21, 17],\n",
      " if you want to build a ship, don't drum up people together to collect wood and don't assign them tasks and work, but rather teach them to long for the endless immensity of the sea.\n",
      "410, [29, 26, 23, 4, 1, 18, 7, 8, 25, 15, 24, 23, 6, 27, 2, 7, 3, 22, 19, 2, 28, 5, 16, 20, 22, 23, 13, 10, 21, 9, 12, 14, 21, 17],\n",
      " if you want to build a ship, don't drum up people together to collect wood and don't assign them tasks and work, but rather teach them to long for the endless immensity of the sea.\n",
      "420, [29, 26, 23, 4, 1, 18, 7, 8, 25, 15, 24, 23, 6, 27, 2, 7, 3, 22, 19, 2, 28, 5, 16, 20, 22, 23, 13, 10, 21, 9, 12, 14, 21, 17],\n",
      " if you want to build a ship, don't drum up people together to collect wood and don't assign them tasks and work, but rather teach them to long for the endless immensity of the sea.\n",
      "430, [29, 26, 23, 4, 1, 18, 7, 8, 25, 15, 24, 23, 6, 27, 2, 7, 3, 22, 19, 2, 28, 5, 16, 20, 22, 23, 13, 10, 21, 9, 12, 14, 21, 17],\n",
      " if you want to build a ship, don't drum up people together to collect wood and don't assign them tasks and work, but rather teach them to long for the endless immensity of the sea.\n",
      "440, [29, 26, 23, 4, 1, 18, 7, 8, 25, 15, 24, 23, 6, 27, 2, 7, 3, 22, 19, 2, 28, 5, 16, 20, 22, 23, 13, 10, 21, 9, 12, 14, 21, 17],\n",
      " if you want to build a ship, don't drum up people together to collect wood and don't assign them tasks and work, but rather teach them to long for the endless immensity of the sea.\n",
      "450, [29, 26, 23, 4, 1, 18, 7, 8, 25, 15, 24, 23, 6, 27, 2, 7, 3, 22, 19, 2, 28, 5, 16, 20, 22, 23, 13, 10, 21, 9, 12, 14, 21, 17],\n",
      " if you want to build a ship, don't drum up people together to collect wood and don't assign them tasks and work, but rather teach them to long for the endless immensity of the sea.\n",
      "460, [29, 26, 23, 4, 1, 18, 7, 8, 25, 15, 24, 23, 6, 27, 2, 7, 3, 22, 19, 2, 28, 5, 16, 20, 22, 23, 13, 10, 21, 9, 12, 14, 21, 17],\n",
      " if you want to build a ship, don't drum up people together to collect wood and don't assign them tasks and work, but rather teach them to long for the endless immensity of the sea.\n",
      "470, [29, 26, 23, 4, 1, 18, 7, 8, 25, 15, 24, 23, 6, 27, 2, 7, 3, 22, 19, 2, 28, 5, 16, 20, 22, 23, 13, 10, 21, 9, 12, 14, 21, 17],\n",
      " if you want to build a ship, don't drum up people together to collect wood and don't assign them tasks and work, but rather teach them to long for the endless immensity of the sea.\n",
      "480, [29, 26, 23, 4, 1, 18, 7, 8, 25, 15, 24, 23, 6, 27, 2, 7, 3, 22, 19, 2, 28, 5, 16, 20, 22, 23, 13, 10, 21, 9, 12, 14, 21, 17],\n",
      " if you want to build a ship, don't drum up people together to collect wood and don't assign them tasks and work, but rather teach them to long for the endless immensity of the sea.\n",
      "490, [29, 26, 23, 4, 1, 18, 7, 8, 25, 15, 24, 23, 6, 27, 2, 7, 3, 22, 19, 2, 28, 5, 16, 20, 22, 23, 13, 10, 21, 9, 12, 14, 21, 17],\n",
      " if you want to build a ship, don't drum up people together to collect wood and don't assign them tasks and work, but rather teach them to long for the endless immensity of the sea.\n"
     ]
    }
   ],
   "source": [
    "for step in range(500):\n",
    "    optimizer.zero_grad()\n",
    "    outputs = model(X)\n",
    "    loss = loss_func(outputs, Y.view(-1))\n",
    "    loss.backward()\n",
    "    optimizer.step()\n",
    "\n",
    "    pred=outputs.softmax(-1).argmax(-1).tolist()\n",
    "    \n",
    "    if step%10 ==0:\n",
    "        print(f'{step}, {pred},\\n { ' '.join(['if'] + decode(pred))}')"
   ]
  },
  {
   "cell_type": "code",
   "execution_count": 20,
   "id": "0c14e08d",
   "metadata": {},
   "outputs": [
    {
     "name": "stdout",
     "output_type": "stream",
     "text": [
      "['you', 'want', 'to', 'build', 'a', 'ship,', \"don't\", 'drum', 'up', 'people', 'together', 'to', 'collect', 'wood', 'and', \"don't\", 'assign', 'them', 'tasks', 'and', 'work,', 'but', 'rather', 'teach', 'them', 'to', 'long', 'for', 'the', 'endless', 'immensity', 'of', 'the', 'sea.']\n"
     ]
    }
   ],
   "source": [
    "result = model(X).argmax(-1).tolist()\n",
    "print(decode(result))"
   ]
  },
  {
   "cell_type": "code",
   "execution_count": null,
   "id": "55db500a",
   "metadata": {},
   "outputs": [],
   "source": []
  }
 ],
 "metadata": {
  "kernelspec": {
   "display_name": "base",
   "language": "python",
   "name": "python3"
  },
  "language_info": {
   "codemirror_mode": {
    "name": "ipython",
    "version": 3
   },
   "file_extension": ".py",
   "mimetype": "text/x-python",
   "name": "python",
   "nbconvert_exporter": "python",
   "pygments_lexer": "ipython3",
   "version": "3.12.7"
  }
 },
 "nbformat": 4,
 "nbformat_minor": 5
}
