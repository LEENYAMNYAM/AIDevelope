{
 "cells": [
  {
   "cell_type": "code",
   "execution_count": 1,
   "id": "702ac082",
   "metadata": {},
   "outputs": [],
   "source": [
    "import numpy as np\n",
    "import matplotlib.pyplot as plt\n",
    "import torch\n",
    "import torch.nn as nn\n",
    "import torch.optim as optim\n",
    "import torch.nn.functional as F\n",
    "from torchvision import datasets, transforms"
   ]
  },
  {
   "cell_type": "code",
   "execution_count": 2,
   "id": "34dab038",
   "metadata": {},
   "outputs": [],
   "source": [
    "# 토치비전에 mnist데이터셋이 있음. 걔를 가져와서 사용함.\n",
    "mnist_train = datasets.MNIST(root='mnist_data',\n",
    "                             train=True,\n",
    "                             download=True,\n",
    "                             transform=transforms.Compose([transforms.ToTensor()]))\n",
    "mnist_test = datasets.MNIST(root='mnist_data',\n",
    "                             train=False,\n",
    "                             download=True,\n",
    "                             transform=transforms.Compose([transforms.ToTensor()]))"
   ]
  },
  {
   "cell_type": "code",
   "execution_count": 3,
   "id": "a2e1e1ad",
   "metadata": {},
   "outputs": [
    {
     "name": "stdout",
     "output_type": "stream",
     "text": [
      "Dataset MNIST\n",
      "    Number of datapoints: 60000\n",
      "    Root location: mnist_data\n",
      "    Split: Train\n",
      "    StandardTransform\n",
      "Transform: Compose(\n",
      "               ToTensor()\n",
      "           )\n",
      "Dataset MNIST\n",
      "    Number of datapoints: 10000\n",
      "    Root location: mnist_data\n",
      "    Split: Test\n",
      "    StandardTransform\n",
      "Transform: Compose(\n",
      "               ToTensor()\n",
      "           )\n"
     ]
    }
   ],
   "source": [
    "print(mnist_train)\n",
    "print(mnist_test)"
   ]
  },
  {
   "cell_type": "code",
   "execution_count": 4,
   "id": "6b504c0e",
   "metadata": {},
   "outputs": [
    {
     "name": "stdout",
     "output_type": "stream",
     "text": [
      "tensor([[[0, 0, 0,  ..., 0, 0, 0],\n",
      "         [0, 0, 0,  ..., 0, 0, 0],\n",
      "         [0, 0, 0,  ..., 0, 0, 0],\n",
      "         ...,\n",
      "         [0, 0, 0,  ..., 0, 0, 0],\n",
      "         [0, 0, 0,  ..., 0, 0, 0],\n",
      "         [0, 0, 0,  ..., 0, 0, 0]],\n",
      "\n",
      "        [[0, 0, 0,  ..., 0, 0, 0],\n",
      "         [0, 0, 0,  ..., 0, 0, 0],\n",
      "         [0, 0, 0,  ..., 0, 0, 0],\n",
      "         ...,\n",
      "         [0, 0, 0,  ..., 0, 0, 0],\n",
      "         [0, 0, 0,  ..., 0, 0, 0],\n",
      "         [0, 0, 0,  ..., 0, 0, 0]],\n",
      "\n",
      "        [[0, 0, 0,  ..., 0, 0, 0],\n",
      "         [0, 0, 0,  ..., 0, 0, 0],\n",
      "         [0, 0, 0,  ..., 0, 0, 0],\n",
      "         ...,\n",
      "         [0, 0, 0,  ..., 0, 0, 0],\n",
      "         [0, 0, 0,  ..., 0, 0, 0],\n",
      "         [0, 0, 0,  ..., 0, 0, 0]],\n",
      "\n",
      "        ...,\n",
      "\n",
      "        [[0, 0, 0,  ..., 0, 0, 0],\n",
      "         [0, 0, 0,  ..., 0, 0, 0],\n",
      "         [0, 0, 0,  ..., 0, 0, 0],\n",
      "         ...,\n",
      "         [0, 0, 0,  ..., 0, 0, 0],\n",
      "         [0, 0, 0,  ..., 0, 0, 0],\n",
      "         [0, 0, 0,  ..., 0, 0, 0]],\n",
      "\n",
      "        [[0, 0, 0,  ..., 0, 0, 0],\n",
      "         [0, 0, 0,  ..., 0, 0, 0],\n",
      "         [0, 0, 0,  ..., 0, 0, 0],\n",
      "         ...,\n",
      "         [0, 0, 0,  ..., 0, 0, 0],\n",
      "         [0, 0, 0,  ..., 0, 0, 0],\n",
      "         [0, 0, 0,  ..., 0, 0, 0]],\n",
      "\n",
      "        [[0, 0, 0,  ..., 0, 0, 0],\n",
      "         [0, 0, 0,  ..., 0, 0, 0],\n",
      "         [0, 0, 0,  ..., 0, 0, 0],\n",
      "         ...,\n",
      "         [0, 0, 0,  ..., 0, 0, 0],\n",
      "         [0, 0, 0,  ..., 0, 0, 0],\n",
      "         [0, 0, 0,  ..., 0, 0, 0]]], dtype=torch.uint8)\n"
     ]
    },
    {
     "data": {
      "text/plain": [
       "tensor([[[0, 0, 0,  ..., 0, 0, 0],\n",
       "         [0, 0, 0,  ..., 0, 0, 0],\n",
       "         [0, 0, 0,  ..., 0, 0, 0],\n",
       "         ...,\n",
       "         [0, 0, 0,  ..., 0, 0, 0],\n",
       "         [0, 0, 0,  ..., 0, 0, 0],\n",
       "         [0, 0, 0,  ..., 0, 0, 0]],\n",
       "\n",
       "        [[0, 0, 0,  ..., 0, 0, 0],\n",
       "         [0, 0, 0,  ..., 0, 0, 0],\n",
       "         [0, 0, 0,  ..., 0, 0, 0],\n",
       "         ...,\n",
       "         [0, 0, 0,  ..., 0, 0, 0],\n",
       "         [0, 0, 0,  ..., 0, 0, 0],\n",
       "         [0, 0, 0,  ..., 0, 0, 0]],\n",
       "\n",
       "        [[0, 0, 0,  ..., 0, 0, 0],\n",
       "         [0, 0, 0,  ..., 0, 0, 0],\n",
       "         [0, 0, 0,  ..., 0, 0, 0],\n",
       "         ...,\n",
       "         [0, 0, 0,  ..., 0, 0, 0],\n",
       "         [0, 0, 0,  ..., 0, 0, 0],\n",
       "         [0, 0, 0,  ..., 0, 0, 0]],\n",
       "\n",
       "        ...,\n",
       "\n",
       "        [[0, 0, 0,  ..., 0, 0, 0],\n",
       "         [0, 0, 0,  ..., 0, 0, 0],\n",
       "         [0, 0, 0,  ..., 0, 0, 0],\n",
       "         ...,\n",
       "         [0, 0, 0,  ..., 0, 0, 0],\n",
       "         [0, 0, 0,  ..., 0, 0, 0],\n",
       "         [0, 0, 0,  ..., 0, 0, 0]],\n",
       "\n",
       "        [[0, 0, 0,  ..., 0, 0, 0],\n",
       "         [0, 0, 0,  ..., 0, 0, 0],\n",
       "         [0, 0, 0,  ..., 0, 0, 0],\n",
       "         ...,\n",
       "         [0, 0, 0,  ..., 0, 0, 0],\n",
       "         [0, 0, 0,  ..., 0, 0, 0],\n",
       "         [0, 0, 0,  ..., 0, 0, 0]],\n",
       "\n",
       "        [[0, 0, 0,  ..., 0, 0, 0],\n",
       "         [0, 0, 0,  ..., 0, 0, 0],\n",
       "         [0, 0, 0,  ..., 0, 0, 0],\n",
       "         ...,\n",
       "         [0, 0, 0,  ..., 0, 0, 0],\n",
       "         [0, 0, 0,  ..., 0, 0, 0],\n",
       "         [0, 0, 0,  ..., 0, 0, 0]]], dtype=torch.uint8)"
      ]
     },
     "execution_count": 4,
     "metadata": {},
     "output_type": "execute_result"
    }
   ],
   "source": [
    "print(mnist_train.data)\n",
    "mnist_train.data"
   ]
  },
  {
   "cell_type": "code",
   "execution_count": 5,
   "id": "01117cdb",
   "metadata": {},
   "outputs": [
    {
     "data": {
      "text/plain": [
       "tensor(0)"
      ]
     },
     "execution_count": 5,
     "metadata": {},
     "output_type": "execute_result"
    }
   ],
   "source": [
    "mnist_train.data[0]\n",
    "mnist_train.targets[1]"
   ]
  },
  {
   "cell_type": "code",
   "execution_count": 6,
   "id": "4af3586e",
   "metadata": {},
   "outputs": [
    {
     "data": {
      "image/png": "[encoded data removed]",
      "text/plain": [
       "<Figure size 800x1000 with 25 Axes>"
      ]
     },
     "metadata": {},
     "output_type": "display_data"
    }
   ],
   "source": [
    "import os\n",
    "os.environ['KMP_DUPLICATE_LIB_OK']='True'\n",
    "\n",
    "def plot(x, y):\n",
    "    plt.figure(figsize=(8,10))\n",
    "    for i in range(len(x)):\n",
    "        plt.subplot(5,5,i+1)\n",
    "        img = (np.array(x[i], dtype='float')).reshape(28,28)\n",
    "        plt.title(y[i].item())\n",
    "        plt.imshow(img, cmap='gray')\n",
    "        plt.axis('off')\n",
    "    plt.show()\n",
    "\n",
    "plot(mnist_train.data[:25], mnist_train.targets[:25])"
   ]
  },
  {
   "cell_type": "code",
   "execution_count": 7,
   "id": "3b0d5297",
   "metadata": {},
   "outputs": [
    {
     "name": "stdout",
     "output_type": "stream",
     "text": [
      "torch.Size([60000, 784])\n",
      "784\n",
      "10\n"
     ]
    }
   ],
   "source": [
    "x = mnist_train.data.float()/255\n",
    "y = mnist_train.targets\n",
    "x = x.view(x.size(0), -1)  # 3차원 -> 2차원으로 변환\n",
    "print(x.size())\n",
    "input_size = x.size(-1)\n",
    "print(input_size)\n",
    "output_size = int(max(y))+1\n",
    "print(output_size)"
   ]
  },
  {
   "cell_type": "code",
   "execution_count": 8,
   "id": "9e4f69f6",
   "metadata": {},
   "outputs": [
    {
     "name": "stdout",
     "output_type": "stream",
     "text": [
      "48000 12000 10000\n",
      "tensor([53404, 23081, 18386,  ..., 34328, 58339, 55406])\n",
      "tensor(0)\n"
     ]
    }
   ],
   "source": [
    "ratio=[0.8,0.2]\n",
    "train_cnt= int(x.size(0)*ratio[0]) # 60000*0.8\n",
    "valid_cnt= int(x.size(0)*ratio[1]) # 60000*0.2\n",
    "test_cnt = len(mnist_test)\n",
    "print(train_cnt, valid_cnt, test_cnt )\n",
    "cnts=[train_cnt, valid_cnt]\n",
    "indices=torch.randperm(x.size(0))\n",
    "print(indices)\n",
    "x=torch.index_select(x, dim=0, index=indices)\n",
    "y=torch.index_select(y, dim=-1, index=indices)\n",
    "print(y[0])"
   ]
  },
  {
   "cell_type": "code",
   "execution_count": 9,
   "id": "ef5e77e8",
   "metadata": {},
   "outputs": [
    {
     "name": "stdout",
     "output_type": "stream",
     "text": [
      "2 48000 12000\n",
      "2 48000 12000\n",
      "torch.Size([48000, 784]) torch.Size([12000, 784]) torch.Size([48000]) torch.Size([12000])\n",
      "torch.Size([48000, 784]) torch.Size([12000, 784]) torch.Size([10000, 784]) torch.Size([48000]) torch.Size([12000]) torch.Size([10000])\n"
     ]
    }
   ],
   "source": [
    "x1=list(x.split(cnts, dim=0))\n",
    "y1=list(y.split(cnts, dim=0))\n",
    "print(len(x1), len(x1[0]), len(x1[1]))\n",
    "print(len(y1), len(y1[0]), len(y1[1]))\n",
    "print(x1[0].shape, x1[1].shape, y1[0].shape, y1[1].shape)\n",
    "x1 += [(mnist_test.data.float()/255).view(test_cnt, -1)]\n",
    "y1 += [mnist_test.targets]\n",
    "print(x1[0].shape, x1[1].shape, x1[2].shape, y1[0].shape, y1[1].shape, y1[2].shape)"
   ]
  },
  {
   "cell_type": "code",
   "execution_count": 10,
   "id": "ba868f0c",
   "metadata": {},
   "outputs": [
    {
     "data": {
      "text/plain": [
       "Sequential(\n",
       "  (0): Linear(in_features=784, out_features=500, bias=True)\n",
       "  (1): LeakyReLU(negative_slope=0.01)\n",
       "  (2): Linear(in_features=500, out_features=400, bias=True)\n",
       "  (3): LeakyReLU(negative_slope=0.01)\n",
       "  (4): Linear(in_features=400, out_features=300, bias=True)\n",
       "  (5): LeakyReLU(negative_slope=0.01)\n",
       "  (6): Linear(in_features=300, out_features=200, bias=True)\n",
       "  (7): LeakyReLU(negative_slope=0.01)\n",
       "  (8): Linear(in_features=200, out_features=100, bias=True)\n",
       "  (9): LeakyReLU(negative_slope=0.01)\n",
       "  (10): Linear(in_features=100, out_features=50, bias=True)\n",
       "  (11): LeakyReLU(negative_slope=0.01)\n",
       "  (12): Linear(in_features=50, out_features=10, bias=True)\n",
       ")"
      ]
     },
     "execution_count": 10,
     "metadata": {},
     "output_type": "execute_result"
    }
   ],
   "source": [
    "model= nn.Sequential(\n",
    "    nn.Linear(input_size, 500),\n",
    "    nn.LeakyReLU(),\n",
    "    nn.Linear(500, 400),\n",
    "    nn.LeakyReLU(),\n",
    "    nn.Linear(400,300),\n",
    "    nn.LeakyReLU(),\n",
    "    nn.Linear(300, 200),\n",
    "    nn.LeakyReLU(),\n",
    "    nn.Linear(200, 100),\n",
    "    nn.LeakyReLU(),\n",
    "    nn.Linear(100, 50),\n",
    "    nn.LeakyReLU(),\n",
    "    nn.Linear(50, output_size),\n",
    "    # nn.LogSoftmax(dim=-1)  # Softmax가 디폴트라서 Softmax만 쓰려면 생략가능\n",
    ")\n",
    "model"
   ]
  },
  {
   "cell_type": "code",
   "execution_count": 11,
   "id": "21e19d3c",
   "metadata": {},
   "outputs": [],
   "source": [
    "# crit=nn.NLLLoss\n",
    "crit = nn.CrossEntropyLoss()\n",
    "optimizer = optim.Adam(model.parameters())\n",
    "# Adam : lr을 자동 조절\n",
    "# Adam을 쓰면 러닝레이트를 안써줘도 됨. (안 적으면 알아서 러닝레이트값을 조절함.)\n",
    "\n",
    "epochs = 1001\n",
    "batch_size = 256\n"
   ]
  },
  {
   "cell_type": "code",
   "execution_count": 12,
   "id": "3596f0ec",
   "metadata": {},
   "outputs": [],
   "source": [
    "from copy import deepcopy\n",
    "epochs = 1001\n",
    "batch_size=256\n",
    "\n",
    "lowest_loss = np.inf\n",
    "best_model = None\n",
    "early_stop = 50\n",
    "lowest_epoch=np.inf"
   ]
  },
  {
   "cell_type": "code",
   "execution_count": 13,
   "id": "af43273b",
   "metadata": {},
   "outputs": [
    {
     "name": "stdout",
     "output_type": "stream",
     "text": [
      "0 0.6382629785369686 0.2803143028249132\n",
      "10 0.020416282617704982 0.09199819701941724\n",
      "20 0.01284277963884264 0.09907153246805389\n",
      "30 0.006254105344348144 0.12489515194233428\n",
      "40 0.0071928756163849375 0.1133403624061178\n",
      "50 0.008335246145029583 0.11649994781993805\n",
      "60 0.0010407088883273396 0.13233148340294335\n",
      "11이후 epoch 증가하는 동안 손실함수 감소 없음\n",
      "epoch 11일때 손실함수 0.08992596096953655가 검정데이터로 가장 낮은 손실함수를 가짐.\n"
     ]
    }
   ],
   "source": [
    "train_history, valid_history=[],[]\n",
    "\n",
    "for epoch in range(epochs):\n",
    "    indices=torch.randperm(x1[0].size(0))\n",
    "    x_ = torch.index_select(x1[0], dim=0, index=indices) # train_data_x : 훈련이미지\n",
    "    y_ = torch.index_select(y1[0], dim=0, index=indices) # train_data_y : 훈련레이블\n",
    "    x_ = x_.split(batch_size, dim=0) # 48000/256\n",
    "    y_ = y_.split(batch_size, dim=0) \n",
    "    \n",
    "    train_loss, valid_loss=0, 0\n",
    "    y_hat=[]\n",
    "    for x_i, y_i in zip(x_, y_):\n",
    "        # print(x_i.size(), y_i.size())\n",
    "        y_hat_i=model(x_i)\n",
    "        loss=crit(y_hat_i, y_i.squeeze())\n",
    "        optimizer.zero_grad()\n",
    "        loss.backward()\n",
    "        optimizer.step()\n",
    "        train_loss +=float(loss)\n",
    "    train_loss = train_loss/len(x_)\n",
    "\n",
    "    with torch.no_grad():\n",
    "        x_ = x1[1].split(batch_size, dim=0)\n",
    "        y_ = y1[1].split(batch_size, dim=0)\n",
    "        valid_loss=0\n",
    "        for x_i, y_i in zip(x_, y_):   # 횟수 : 12000/256\n",
    "            y_hat_i = model(x_i)\n",
    "            loss=crit(y_hat_i, y_i.squeeze())\n",
    "            valid_loss+=float(loss)\n",
    "\n",
    "            y_hat +=[y_hat_i]\n",
    "    valid_loss = valid_loss/len(x_)\n",
    "    train_history +=[train_loss]\n",
    "    valid_history +=[valid_loss]\n",
    "\n",
    "    if epoch%10==0:\n",
    "        print(epoch, train_loss, valid_loss)\n",
    "    \n",
    "    if valid_loss <= lowest_loss:\n",
    "        lowest_loss =valid_loss\n",
    "        lowest_epoch=epoch\n",
    "        best_model=deepcopy(model.state_dict())\n",
    "    else:\n",
    "        if early_stop > 0 and lowest_epoch + early_stop < epoch:\n",
    "            print(f'{lowest_epoch}이후 epoch 증가하는 동안 손실함수 감소 없음')\n",
    "            break\n",
    "print(f'epoch {lowest_epoch}일때 손실함수 {lowest_loss}가 검정데이터로 가장 낮은 손실함수를 가짐.')"
   ]
  },
  {
   "cell_type": "code",
   "execution_count": 14,
   "id": "823241ab",
   "metadata": {},
   "outputs": [
    {
     "data": {
      "text/plain": [
       "[<matplotlib.lines.Line2D at 0x2ca1f85f1a0>]"
      ]
     },
     "execution_count": 14,
     "metadata": {},
     "output_type": "execute_result"
    },
    {
     "data": {
      "image/png": "[encoded data removed]",
      "text/plain": [
       "<Figure size 600x600 with 1 Axes>"
      ]
     },
     "metadata": {},
     "output_type": "display_data"
    }
   ],
   "source": [
    "plot_from = 0\n",
    "plt.figure(figsize=(6,6))\n",
    "plt.grid(True)\n",
    "plt.title(\"Train/Valid Loss History\")\n",
    "plt.plot(range(plot_from, len(train_history)), train_history[plot_from:], label=\"train loss\")\n",
    "plt.plot(range(plot_from, len(valid_history)), valid_history[plot_from:], label=\"Valid loss\")"
   ]
  },
  {
   "cell_type": "code",
   "execution_count": 15,
   "id": "dca8aa2c",
   "metadata": {},
   "outputs": [
    {
     "name": "stdout",
     "output_type": "stream",
     "text": [
      "test loss: tensor(0.1168)\n"
     ]
    }
   ],
   "source": [
    "test_loss=0\n",
    "y_hat = []\n",
    "with torch.no_grad():\n",
    "    x_=x1[-1].split(batch_size, dim=0) #10000/256\n",
    "    y_=y1[-1].split(batch_size, dim=0)\n",
    "    \n",
    "    for x_i, y_i in zip(x_, y_):\n",
    "        y_hat_i = model(x_i)\n",
    "        loss=crit(y_hat_i, y_i.squeeze())\n",
    "        test_loss +=loss\n",
    "        y_hat += [y_hat_i]\n",
    "\n",
    "test_loss = test_loss/len(x_)\n",
    "y_hat = torch.cat(y_hat, dim=0)\n",
    "\n",
    "print('test loss:', test_loss)\n"
   ]
  },
  {
   "cell_type": "code",
   "execution_count": 16,
   "id": "c552fab7",
   "metadata": {},
   "outputs": [
    {
     "name": "stdout",
     "output_type": "stream",
     "text": [
      "tensor([[-17.0469,   1.8755,  -5.5377,  ...,  22.1529, -15.9689,  -8.7033],\n",
      "        [-20.0825,   0.7491,  34.5725,  ...,  -0.1849,  -9.8857, -19.4160],\n",
      "        [ -5.7530,  19.6378,  -2.9370,  ...,  -1.6324,  -0.1295,  -9.8105],\n",
      "        ...,\n",
      "        [ -8.5691,  -2.6908, -10.2830,  ...,  -5.0731, -14.5567,  -2.8715],\n",
      "        [ -4.4156, -18.3153, -17.3082,  ...,  -7.5381,  -7.4005,   5.7882],\n",
      "        [ -7.9998, -15.5990,  -9.7367,  ..., -40.3099,  -8.6235, -30.4083]])\n",
      "torch.Size([10000, 10])\n"
     ]
    }
   ],
   "source": [
    "print(y_hat)\n",
    "print(y_hat.size())"
   ]
  },
  {
   "cell_type": "code",
   "execution_count": 17,
   "id": "c30e74e8",
   "metadata": {},
   "outputs": [
    {
     "data": {
      "text/plain": [
       "tensor([7, 2, 1,  ..., 4, 5, 6])"
      ]
     },
     "execution_count": 17,
     "metadata": {},
     "output_type": "execute_result"
    }
   ],
   "source": [
    "y1[-1].squeeze()"
   ]
  },
  {
   "cell_type": "code",
   "execution_count": 18,
   "id": "1df075ff",
   "metadata": {},
   "outputs": [
    {
     "data": {
      "text/plain": [
       "tensor([7, 2, 1,  ..., 4, 5, 6])"
      ]
     },
     "execution_count": 18,
     "metadata": {},
     "output_type": "execute_result"
    }
   ],
   "source": [
    "torch.argmax(y_hat, dim=-1)"
   ]
  },
  {
   "cell_type": "code",
   "execution_count": 19,
   "id": "a78e1e5e",
   "metadata": {},
   "outputs": [
    {
     "name": "stdout",
     "output_type": "stream",
     "text": [
      "tensor(0.9815)\n"
     ]
    }
   ],
   "source": [
    "correct_cnt=(y1[-1].squeeze()==torch.argmax(y_hat, dim=-1)).sum()\n",
    "print(correct_cnt/10000)"
   ]
  },
  {
   "cell_type": "code",
   "execution_count": 20,
   "id": "339371ea",
   "metadata": {},
   "outputs": [
    {
     "data": {
      "text/html": [
       "<div>\n",
       "<style scoped>\n",
       "    .dataframe tbody tr th:only-of-type {\n",
       "        vertical-align: middle;\n",
       "    }\n",
       "\n",
       "    .dataframe tbody tr th {\n",
       "        vertical-align: top;\n",
       "    }\n",
       "\n",
       "    .dataframe thead th {\n",
       "        text-align: right;\n",
       "    }\n",
       "</style>\n",
       "<table border=\"1\" class=\"dataframe\">\n",
       "  <thead>\n",
       "    <tr style=\"text-align: right;\">\n",
       "      <th></th>\n",
       "      <th>0</th>\n",
       "      <th>1</th>\n",
       "      <th>2</th>\n",
       "      <th>3</th>\n",
       "      <th>4</th>\n",
       "      <th>5</th>\n",
       "      <th>6</th>\n",
       "      <th>7</th>\n",
       "      <th>8</th>\n",
       "      <th>9</th>\n",
       "    </tr>\n",
       "  </thead>\n",
       "  <tbody>\n",
       "    <tr>\n",
       "      <th>0</th>\n",
       "      <td>970</td>\n",
       "      <td>1</td>\n",
       "      <td>1</td>\n",
       "      <td>0</td>\n",
       "      <td>0</td>\n",
       "      <td>1</td>\n",
       "      <td>4</td>\n",
       "      <td>3</td>\n",
       "      <td>0</td>\n",
       "      <td>0</td>\n",
       "    </tr>\n",
       "    <tr>\n",
       "      <th>1</th>\n",
       "      <td>0</td>\n",
       "      <td>1125</td>\n",
       "      <td>2</td>\n",
       "      <td>1</td>\n",
       "      <td>1</td>\n",
       "      <td>1</td>\n",
       "      <td>1</td>\n",
       "      <td>1</td>\n",
       "      <td>3</td>\n",
       "      <td>0</td>\n",
       "    </tr>\n",
       "    <tr>\n",
       "      <th>2</th>\n",
       "      <td>0</td>\n",
       "      <td>0</td>\n",
       "      <td>1018</td>\n",
       "      <td>5</td>\n",
       "      <td>1</td>\n",
       "      <td>0</td>\n",
       "      <td>0</td>\n",
       "      <td>4</td>\n",
       "      <td>3</td>\n",
       "      <td>1</td>\n",
       "    </tr>\n",
       "    <tr>\n",
       "      <th>3</th>\n",
       "      <td>0</td>\n",
       "      <td>0</td>\n",
       "      <td>6</td>\n",
       "      <td>991</td>\n",
       "      <td>0</td>\n",
       "      <td>2</td>\n",
       "      <td>0</td>\n",
       "      <td>6</td>\n",
       "      <td>3</td>\n",
       "      <td>2</td>\n",
       "    </tr>\n",
       "    <tr>\n",
       "      <th>4</th>\n",
       "      <td>0</td>\n",
       "      <td>0</td>\n",
       "      <td>3</td>\n",
       "      <td>0</td>\n",
       "      <td>958</td>\n",
       "      <td>0</td>\n",
       "      <td>3</td>\n",
       "      <td>1</td>\n",
       "      <td>1</td>\n",
       "      <td>16</td>\n",
       "    </tr>\n",
       "    <tr>\n",
       "      <th>5</th>\n",
       "      <td>2</td>\n",
       "      <td>0</td>\n",
       "      <td>0</td>\n",
       "      <td>8</td>\n",
       "      <td>1</td>\n",
       "      <td>863</td>\n",
       "      <td>6</td>\n",
       "      <td>0</td>\n",
       "      <td>5</td>\n",
       "      <td>7</td>\n",
       "    </tr>\n",
       "    <tr>\n",
       "      <th>6</th>\n",
       "      <td>3</td>\n",
       "      <td>3</td>\n",
       "      <td>2</td>\n",
       "      <td>0</td>\n",
       "      <td>6</td>\n",
       "      <td>1</td>\n",
       "      <td>941</td>\n",
       "      <td>0</td>\n",
       "      <td>2</td>\n",
       "      <td>0</td>\n",
       "    </tr>\n",
       "    <tr>\n",
       "      <th>7</th>\n",
       "      <td>1</td>\n",
       "      <td>3</td>\n",
       "      <td>7</td>\n",
       "      <td>1</td>\n",
       "      <td>1</td>\n",
       "      <td>0</td>\n",
       "      <td>0</td>\n",
       "      <td>1008</td>\n",
       "      <td>2</td>\n",
       "      <td>5</td>\n",
       "    </tr>\n",
       "    <tr>\n",
       "      <th>8</th>\n",
       "      <td>1</td>\n",
       "      <td>1</td>\n",
       "      <td>3</td>\n",
       "      <td>1</td>\n",
       "      <td>3</td>\n",
       "      <td>3</td>\n",
       "      <td>1</td>\n",
       "      <td>5</td>\n",
       "      <td>953</td>\n",
       "      <td>3</td>\n",
       "    </tr>\n",
       "    <tr>\n",
       "      <th>9</th>\n",
       "      <td>3</td>\n",
       "      <td>2</td>\n",
       "      <td>0</td>\n",
       "      <td>2</td>\n",
       "      <td>3</td>\n",
       "      <td>2</td>\n",
       "      <td>0</td>\n",
       "      <td>7</td>\n",
       "      <td>2</td>\n",
       "      <td>988</td>\n",
       "    </tr>\n",
       "  </tbody>\n",
       "</table>\n",
       "</div>"
      ],
      "text/plain": [
       "     0     1     2    3    4    5    6     7    8    9\n",
       "0  970     1     1    0    0    1    4     3    0    0\n",
       "1    0  1125     2    1    1    1    1     1    3    0\n",
       "2    0     0  1018    5    1    0    0     4    3    1\n",
       "3    0     0     6  991    0    2    0     6    3    2\n",
       "4    0     0     3    0  958    0    3     1    1   16\n",
       "5    2     0     0    8    1  863    6     0    5    7\n",
       "6    3     3     2    0    6    1  941     0    2    0\n",
       "7    1     3     7    1    1    0    0  1008    2    5\n",
       "8    1     1     3    1    3    3    1     5  953    3\n",
       "9    3     2     0    2    3    2    0     7    2  988"
      ]
     },
     "execution_count": 20,
     "metadata": {},
     "output_type": "execute_result"
    }
   ],
   "source": [
    "import pandas as pd\n",
    "from sklearn.metrics import confusion_matrix\n",
    "df=pd.DataFrame(confusion_matrix(y1[-1], torch.argmax(y_hat, dim=-1)))\n",
    "df"
   ]
  },
  {
   "cell_type": "code",
   "execution_count": null,
   "id": "96629a35",
   "metadata": {},
   "outputs": [],
   "source": []
  }
 ],
 "metadata": {
  "kernelspec": {
   "display_name": "base",
   "language": "python",
   "name": "python3"
  },
  "language_info": {
   "codemirror_mode": {
    "name": "ipython",
    "version": 3
   },
   "file_extension": ".py",
   "mimetype": "text/x-python",
   "name": "python",
   "nbconvert_exporter": "python",
   "pygments_lexer": "ipython3",
   "version": "3.12.7"
  }
 },
 "nbformat": 4,
 "nbformat_minor": 5
}
